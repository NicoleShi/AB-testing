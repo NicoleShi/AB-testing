{
 "cells": [
  {
   "cell_type": "code",
   "execution_count": null,
   "metadata": {},
   "outputs": [],
   "source": []
  },
  {
   "cell_type": "markdown",
   "metadata": {
    "id": "BACB73123381485187C3EAAAC1AF52AA",
    "jupyter": {},
    "mdEditEnable": false,
    "slideshow": {
     "slide_type": "slide"
    },
    "tags": []
   },
   "source": [
    "### 1 背景"
   ]
  },
  {
   "cell_type": "markdown",
   "metadata": {
    "id": "C6C65B087B9D43FD929605BDC3A3AF87",
    "jupyter": {},
    "mdEditEnable": false,
    "slideshow": {
     "slide_type": "slide"
    },
    "tags": []
   },
   "source": [
    "随着企业日常经营活动的进行，企业内部必然产生了各式各样的数据，如何利用这些数据得出有益的见解，并支持我们下一步的产品迭代以及领导决策就显得尤为重要。\n",
    "\n",
    "[A/B测试](https://baike.baidu.com/item/AB测试/9231223?fr=aladdin)是互联网企业常用的一种基于数据的产品迭代方法，它的主要思想是在控制其他条件不变的前提下对不同（或同一、同质）样本设计不同实验水平（方案），并根据最终的数据变现来判断自变量对因变量的影响；A/B测试的理论基础主要源于数理统计中的[假设检验](https://baike.baidu.com/item/假设检验/638320?fr=aladdin)部分，此部分统计学知识读者可自行探索。"
   ]
  },
  {
   "cell_type": "markdown",
   "metadata": {
    "id": "4CF0760F137F4F9EA1BAC3C30D4E0625",
    "jupyter": {},
    "mdEditEnable": false,
    "slideshow": {
     "slide_type": "slide"
    },
    "tags": []
   },
   "source": [
    "### 2 数据来源"
   ]
  },
  {
   "cell_type": "markdown",
   "metadata": {
    "id": "BF60A916AE7443B7ADE18986D1548CFF",
    "jupyter": {},
    "mdEditEnable": false,
    "slideshow": {
     "slide_type": "slide"
    },
    "tags": []
   },
   "source": [
    "* 数据集分为test.xlsx与city.xlsx两部分：\n",
    "\n",
    "\n",
    "* 其中test.xlsx为滴滴出行某次A/B测试结果数据，各字段说明如下：\n",
    "\n",
    "![Image Name](https://cdn.kesci.com/upload/image/qemgh8jmfy.png)\n",
    "\n",
    "* city.xlsx为某城市运营数据，各字段说明如下：\n",
    "\n",
    "\n",
    "![Image Name](https://cdn.kesci.com/upload/image/qemhbnvnar.png)\n",
    "\n"
   ]
  },
  {
   "cell_type": "markdown",
   "metadata": {
    "id": "7C1F343DE0BF46E58F507241E911D744",
    "jupyter": {},
    "mdEditEnable": false,
    "slideshow": {
     "slide_type": "slide"
    },
    "tags": []
   },
   "source": [
    "* test.xlsx数据可以用来判断实验条件对此次A/B测试的结果影响是否显著；city.xlsx数据可以用来探索该城市运营中出现的问题，根据关键结论辅助决策。"
   ]
  },
  {
   "cell_type": "markdown",
   "metadata": {
    "cell_type": "code",
    "id": "86D516D212BD466B90D04E052DD8A62B",
    "jupyter": {},
    "mdEditEnable": false,
    "slideshow": {
     "slide_type": "slide"
    },
    "tags": []
   },
   "source": [
    "## 一、A/B测试效果分析"
   ]
  },
  {
   "cell_type": "markdown",
   "metadata": {
    "id": "52E69CB5CDE2490AA11232DD607B436F",
    "jupyter": {},
    "mdEditEnable": false,
    "slideshow": {
     "slide_type": "slide"
    },
    "tags": []
   },
   "source": [
    "### 1 数据导入"
   ]
  },
  {
   "cell_type": "code",
   "execution_count": 3,
   "metadata": {
    "id": "EDF94CE97C7A45B4BC17915F9921964F",
    "jupyter": {},
    "scrolled": false,
    "slideshow": {
     "slide_type": "slide"
    },
    "tags": []
   },
   "outputs": [
    {
     "data": {
      "text/html": [
       "<div>\n",
       "<style scoped>\n",
       "    .dataframe tbody tr th:only-of-type {\n",
       "        vertical-align: middle;\n",
       "    }\n",
       "\n",
       "    .dataframe tbody tr th {\n",
       "        vertical-align: top;\n",
       "    }\n",
       "\n",
       "    .dataframe thead th {\n",
       "        text-align: right;\n",
       "    }\n",
       "</style>\n",
       "<table border=\"1\" class=\"dataframe\">\n",
       "  <thead>\n",
       "    <tr style=\"text-align: right;\">\n",
       "      <th></th>\n",
       "      <th>date</th>\n",
       "      <th>group</th>\n",
       "      <th>requests</th>\n",
       "      <th>gmv</th>\n",
       "      <th>coupon per trip</th>\n",
       "      <th>trips</th>\n",
       "      <th>canceled requests</th>\n",
       "    </tr>\n",
       "  </thead>\n",
       "  <tbody>\n",
       "    <tr>\n",
       "      <th>0</th>\n",
       "      <td>2019-01-01</td>\n",
       "      <td>control</td>\n",
       "      <td>30</td>\n",
       "      <td>7486.620</td>\n",
       "      <td>1.069746</td>\n",
       "      <td>24</td>\n",
       "      <td>1</td>\n",
       "    </tr>\n",
       "    <tr>\n",
       "      <th>1</th>\n",
       "      <td>2019-01-02</td>\n",
       "      <td>control</td>\n",
       "      <td>152</td>\n",
       "      <td>38301.575</td>\n",
       "      <td>1.044199</td>\n",
       "      <td>121</td>\n",
       "      <td>8</td>\n",
       "    </tr>\n",
       "    <tr>\n",
       "      <th>2</th>\n",
       "      <td>2019-01-03</td>\n",
       "      <td>control</td>\n",
       "      <td>267</td>\n",
       "      <td>67768.425</td>\n",
       "      <td>1.032276</td>\n",
       "      <td>215</td>\n",
       "      <td>14</td>\n",
       "    </tr>\n",
       "    <tr>\n",
       "      <th>3</th>\n",
       "      <td>2019-01-04</td>\n",
       "      <td>control</td>\n",
       "      <td>369</td>\n",
       "      <td>94992.900</td>\n",
       "      <td>1.028196</td>\n",
       "      <td>298</td>\n",
       "      <td>19</td>\n",
       "    </tr>\n",
       "    <tr>\n",
       "      <th>4</th>\n",
       "      <td>2019-01-05</td>\n",
       "      <td>control</td>\n",
       "      <td>478</td>\n",
       "      <td>123236.875</td>\n",
       "      <td>1.011807</td>\n",
       "      <td>390</td>\n",
       "      <td>24</td>\n",
       "    </tr>\n",
       "  </tbody>\n",
       "</table>\n",
       "</div>"
      ],
      "text/plain": [
       "        date    group  requests         gmv  coupon per trip  trips  \\\n",
       "0 2019-01-01  control        30    7486.620         1.069746     24   \n",
       "1 2019-01-02  control       152   38301.575         1.044199    121   \n",
       "2 2019-01-03  control       267   67768.425         1.032276    215   \n",
       "3 2019-01-04  control       369   94992.900         1.028196    298   \n",
       "4 2019-01-05  control       478  123236.875         1.011807    390   \n",
       "\n",
       "   canceled requests  \n",
       "0                  1  \n",
       "1                  8  \n",
       "2                 14  \n",
       "3                 19  \n",
       "4                 24  "
      ]
     },
     "execution_count": 3,
     "metadata": {},
     "output_type": "execute_result"
    }
   ],
   "source": [
    "#A/B测试结果数据导入\n",
    "\n",
    "import pandas as pd\n",
    "\n",
    "test = pd.read_excel('/home/kesci/input/didi4010/test.xlsx')\n",
    "test.head()"
   ]
  },
  {
   "cell_type": "markdown",
   "metadata": {
    "id": "ADD045E88F6841288F32E615D1CBA5D2",
    "jupyter": {},
    "mdEditEnable": false,
    "slideshow": {
     "slide_type": "slide"
    },
    "tags": []
   },
   "source": [
    "### 2 计算ROI"
   ]
  },
  {
   "cell_type": "code",
   "execution_count": 2,
   "metadata": {
    "id": "1599512C8C314B7289697542125D15CF",
    "jupyter": {},
    "mdEditEnable": false,
    "scrolled": false,
    "slideshow": {
     "slide_type": "slide"
    },
    "tags": []
   },
   "outputs": [
    {
     "data": {
      "text/html": [
       "<div>\n",
       "<style scoped>\n",
       "    .dataframe tbody tr th:only-of-type {\n",
       "        vertical-align: middle;\n",
       "    }\n",
       "\n",
       "    .dataframe tbody tr th {\n",
       "        vertical-align: top;\n",
       "    }\n",
       "\n",
       "    .dataframe thead th {\n",
       "        text-align: right;\n",
       "    }\n",
       "</style>\n",
       "<table border=\"1\" class=\"dataframe\">\n",
       "  <thead>\n",
       "    <tr style=\"text-align: right;\">\n",
       "      <th></th>\n",
       "      <th>date</th>\n",
       "      <th>group</th>\n",
       "      <th>requests</th>\n",
       "      <th>gmv</th>\n",
       "      <th>coupon per trip</th>\n",
       "      <th>trips</th>\n",
       "      <th>canceled requests</th>\n",
       "      <th>ROI</th>\n",
       "    </tr>\n",
       "  </thead>\n",
       "  <tbody>\n",
       "    <tr>\n",
       "      <th>0</th>\n",
       "      <td>2019-01-01</td>\n",
       "      <td>control</td>\n",
       "      <td>30</td>\n",
       "      <td>7486.620</td>\n",
       "      <td>1.069746</td>\n",
       "      <td>24</td>\n",
       "      <td>1</td>\n",
       "      <td>291.604269</td>\n",
       "    </tr>\n",
       "    <tr>\n",
       "      <th>1</th>\n",
       "      <td>2019-01-02</td>\n",
       "      <td>control</td>\n",
       "      <td>152</td>\n",
       "      <td>38301.575</td>\n",
       "      <td>1.044199</td>\n",
       "      <td>121</td>\n",
       "      <td>8</td>\n",
       "      <td>303.143166</td>\n",
       "    </tr>\n",
       "    <tr>\n",
       "      <th>2</th>\n",
       "      <td>2019-01-03</td>\n",
       "      <td>control</td>\n",
       "      <td>267</td>\n",
       "      <td>67768.425</td>\n",
       "      <td>1.032276</td>\n",
       "      <td>215</td>\n",
       "      <td>14</td>\n",
       "      <td>305.346684</td>\n",
       "    </tr>\n",
       "    <tr>\n",
       "      <th>3</th>\n",
       "      <td>2019-01-04</td>\n",
       "      <td>control</td>\n",
       "      <td>369</td>\n",
       "      <td>94992.900</td>\n",
       "      <td>1.028196</td>\n",
       "      <td>298</td>\n",
       "      <td>19</td>\n",
       "      <td>310.026761</td>\n",
       "    </tr>\n",
       "    <tr>\n",
       "      <th>4</th>\n",
       "      <td>2019-01-05</td>\n",
       "      <td>control</td>\n",
       "      <td>478</td>\n",
       "      <td>123236.875</td>\n",
       "      <td>1.011807</td>\n",
       "      <td>390</td>\n",
       "      <td>24</td>\n",
       "      <td>312.304607</td>\n",
       "    </tr>\n",
       "  </tbody>\n",
       "</table>\n",
       "</div>"
      ],
      "text/plain": [
       "        date    group  requests         gmv  coupon per trip  trips  \\\n",
       "0 2019-01-01  control        30    7486.620         1.069746     24   \n",
       "1 2019-01-02  control       152   38301.575         1.044199    121   \n",
       "2 2019-01-03  control       267   67768.425         1.032276    215   \n",
       "3 2019-01-04  control       369   94992.900         1.028196    298   \n",
       "4 2019-01-05  control       478  123236.875         1.011807    390   \n",
       "\n",
       "   canceled requests         ROI  \n",
       "0                  1  291.604269  \n",
       "1                  8  303.143166  \n",
       "2                 14  305.346684  \n",
       "3                 19  310.026761  \n",
       "4                 24  312.304607  "
      ]
     },
     "execution_count": 2,
     "metadata": {},
     "output_type": "execute_result"
    }
   ],
   "source": [
    "#计算优惠券投入相对gmv的ROI\n",
    "\n",
    "test['ROI']=test['gmv']/(test['coupon per trip']*test['trips'])\n",
    "test.head()"
   ]
  },
  {
   "cell_type": "markdown",
   "metadata": {
    "id": "BF905E9ED28A4E978E0B8AE482FC7A38",
    "jupyter": {},
    "mdEditEnable": false,
    "slideshow": {
     "slide_type": "slide"
    },
    "tags": []
   },
   "source": [
    "### 3 requests检验"
   ]
  },
  {
   "cell_type": "markdown",
   "metadata": {
    "id": "682C52899EF543249252997238FC4F30",
    "jupyter": {},
    "mdEditEnable": false,
    "slideshow": {
     "slide_type": "slide"
    },
    "tags": []
   },
   "source": [
    "数据共58条，对照组与实验组各29条，样本量<30。"
   ]
  },
  {
   "cell_type": "markdown",
   "metadata": {
    "id": "77DB35B234B240EE8CE2C86AC9E3476C",
    "jupyter": {},
    "mdEditEnable": false,
    "slideshow": {
     "slide_type": "slide"
    },
    "tags": []
   },
   "source": [
    "#### 3.1 requests方差检验"
   ]
  },
  {
   "cell_type": "markdown",
   "metadata": {
    "id": "01C284BE89C44B2BB325C2126242EA21",
    "jupyter": {},
    "mdEditEnable": false,
    "slideshow": {
     "slide_type": "slide"
    },
    "tags": []
   },
   "source": [
    "1. 记两组requests方差分别为从c1,c2\n",
    "\n",
    "1. 零假设H0：c1=c2；备选假设：H1：c1≠c2\n",
    "\n",
    "1. 显著性水平取0.05"
   ]
  },
  {
   "cell_type": "code",
   "execution_count": 4,
   "metadata": {
    "id": "28FCDEC53ECB4EFF8E9BB7747FAC507B",
    "jupyter": {},
    "scrolled": false,
    "slideshow": {
     "slide_type": "slide"
    },
    "tags": []
   },
   "outputs": [
    {
     "data": {
      "text/plain": [
       "LeveneResult(statistic=0.014685075667736849, pvalue=0.903980667108546)"
      ]
     },
     "execution_count": 4,
     "metadata": {},
     "output_type": "execute_result"
    }
   ],
   "source": [
    "#levene检验requests是否齐方差\n",
    "\n",
    "requests_A=test[test.group=='control'].requests\n",
    "requests_B=test[test.group=='experiment'].requests\n",
    "\n",
    "import scipy.stats as st\n",
    "st.levene(requests_A,requests_B)"
   ]
  },
  {
   "cell_type": "markdown",
   "metadata": {
    "id": "E37D7A9484584878B3C56DE675AC3DA4",
    "jupyter": {},
    "mdEditEnable": false,
    "slideshow": {
     "slide_type": "slide"
    },
    "tags": []
   },
   "source": [
    "* p值大于0.05，不拒绝原假设，因此可认为两组实验requests齐方差。"
   ]
  },
  {
   "cell_type": "markdown",
   "metadata": {
    "id": "FDAE8CED2B2649009FF38B132A9E787C",
    "jupyter": {},
    "mdEditEnable": false,
    "slideshow": {
     "slide_type": "slide"
    },
    "tags": []
   },
   "source": [
    "#### 3.2 requests均值检验"
   ]
  },
  {
   "cell_type": "markdown",
   "metadata": {
    "id": "D812A637FE4B455F8EBDCBA440B17BDC",
    "jupyter": {},
    "mdEditEnable": false,
    "slideshow": {
     "slide_type": "slide"
    },
    "tags": []
   },
   "source": [
    "1. 该数据为同一样本实验前后的不同水平，因此选用配对样本t检验。\n",
    "\n",
    "1. 记两组requests均值分别为从u1,u2\n",
    "\n",
    "1. 零假设H0：u1=u2；备选假设：H1：u1≠u2\n",
    "\n",
    "1. 显著性水平取0.05"
   ]
  },
  {
   "cell_type": "code",
   "execution_count": 5,
   "metadata": {
    "id": "CD14DF5B0B6644C885CEECDD56272E38",
    "jupyter": {},
    "scrolled": false,
    "slideshow": {
     "slide_type": "slide"
    },
    "tags": []
   },
   "outputs": [
    {
     "data": {
      "text/plain": [
       "Ttest_relResult(statistic=1.6436140982479508, pvalue=0.11143970454099936)"
      ]
     },
     "execution_count": 5,
     "metadata": {},
     "output_type": "execute_result"
    }
   ],
   "source": [
    "#配对样本t检验（两独立样本t检验之前需检验是否齐方差，此处不需要）\n",
    "\n",
    "st.ttest_rel(requests_A,requests_B)"
   ]
  },
  {
   "cell_type": "markdown",
   "metadata": {
    "id": "E57BA66388D94E29B3C8895495E1AD46",
    "jupyter": {},
    "mdEditEnable": false,
    "slideshow": {
     "slide_type": "slide"
    },
    "tags": []
   },
   "source": [
    "* p值大于0.05，不拒绝原假设，因此可认为实验条件对requests影响不显著。"
   ]
  },
  {
   "cell_type": "markdown",
   "metadata": {
    "id": "ED6DDCEBF71D4E5683D5350A822829F9",
    "jupyter": {},
    "mdEditEnable": false,
    "slideshow": {
     "slide_type": "slide"
    },
    "tags": []
   },
   "source": [
    "### 4 gmv检验"
   ]
  },
  {
   "cell_type": "markdown",
   "metadata": {
    "id": "53BBD98FF9F8455FBA18C45EDF484053",
    "jupyter": {},
    "mdEditEnable": false,
    "slideshow": {
     "slide_type": "slide"
    },
    "tags": []
   },
   "source": [
    "同理对gmv进行方差和均值检验。"
   ]
  },
  {
   "cell_type": "markdown",
   "metadata": {
    "id": "B37854A845B842F1867DE55DA5BC1FBC",
    "jupyter": {},
    "mdEditEnable": false,
    "slideshow": {
     "slide_type": "slide"
    },
    "tags": []
   },
   "source": [
    "#### 4.1 gmv方差检验"
   ]
  },
  {
   "cell_type": "code",
   "execution_count": 6,
   "metadata": {
    "id": "3A91FF842CD24D448F5F0310B6452192",
    "jupyter": {},
    "scrolled": false,
    "slideshow": {
     "slide_type": "slide"
    },
    "tags": []
   },
   "outputs": [
    {
     "data": {
      "text/plain": [
       "LeveneResult(statistic=0.02865341299111212, pvalue=0.8661917430097603)"
      ]
     },
     "execution_count": 6,
     "metadata": {},
     "output_type": "execute_result"
    }
   ],
   "source": [
    "#levene检验gmv是否齐方差\n",
    "\n",
    "gmv_A=test[test.group=='control'].gmv\n",
    "gmv_B=test[test.group=='experiment'].gmv\n",
    "\n",
    "st.levene(gmv_A,gmv_B)"
   ]
  },
  {
   "cell_type": "markdown",
   "metadata": {
    "id": "B36611EB8D6A4598B18467B4F1771B08",
    "jupyter": {},
    "mdEditEnable": false,
    "slideshow": {
     "slide_type": "slide"
    },
    "tags": []
   },
   "source": [
    "* p值大于0.05，不拒绝原假设，因此可认为两组实验gmv齐方差。"
   ]
  },
  {
   "cell_type": "markdown",
   "metadata": {
    "id": "7BA3B38EB5CB4DB88B027E8B0BECC588",
    "jupyter": {},
    "mdEditEnable": false,
    "slideshow": {
     "slide_type": "slide"
    },
    "tags": []
   },
   "source": [
    "#### 4.2 gmv均值检验"
   ]
  },
  {
   "cell_type": "code",
   "execution_count": 7,
   "metadata": {
    "id": "B541D6ED571540AEBEAD69C48F8A6D0B",
    "jupyter": {},
    "scrolled": false,
    "slideshow": {
     "slide_type": "slide"
    },
    "tags": []
   },
   "outputs": [
    {
     "data": {
      "text/plain": [
       "Ttest_relResult(statistic=4.247583846321442, pvalue=0.00021564303983362577)"
      ]
     },
     "execution_count": 7,
     "metadata": {},
     "output_type": "execute_result"
    }
   ],
   "source": [
    "#配对样本t检验（两独立样本t检验之前需检验是否齐方差，此处不需要）\n",
    "\n",
    "st.ttest_rel(gmv_A,gmv_B)"
   ]
  },
  {
   "cell_type": "markdown",
   "metadata": {
    "id": "2CBEE1E3105F4AEAAFBB20541C59A3D6",
    "jupyter": {},
    "mdEditEnable": false,
    "slideshow": {
     "slide_type": "slide"
    },
    "tags": []
   },
   "source": [
    "* p值小于0.05，拒绝原假设，因此可认为实验条件对gmv有显著影响。"
   ]
  },
  {
   "cell_type": "markdown",
   "metadata": {
    "id": "757F2EBCE8FA4FC18C79CBB43891D80C",
    "jupyter": {},
    "mdEditEnable": false,
    "slideshow": {
     "slide_type": "slide"
    },
    "tags": []
   },
   "source": [
    "### 5 ROI检验"
   ]
  },
  {
   "cell_type": "markdown",
   "metadata": {
    "id": "6DA6BD3D845842C59D12074A68D32042",
    "jupyter": {},
    "mdEditEnable": false,
    "scrolled": false,
    "slideshow": {
     "slide_type": "slide"
    },
    "tags": []
   },
   "source": [
    "同理对ROI进行j方差和均值检验。"
   ]
  },
  {
   "cell_type": "markdown",
   "metadata": {
    "id": "67D0F1F40D1144EA828A561A2849F2C9",
    "jupyter": {},
    "mdEditEnable": false,
    "slideshow": {
     "slide_type": "slide"
    },
    "tags": []
   },
   "source": [
    "#### 5.1 ROI方差检验"
   ]
  },
  {
   "cell_type": "code",
   "execution_count": 8,
   "metadata": {
    "id": "CCF2C2B168BC4B61847D829E1DDE9DB2",
    "jupyter": {},
    "scrolled": false,
    "slideshow": {
     "slide_type": "slide"
    },
    "tags": []
   },
   "outputs": [
    {
     "data": {
      "text/plain": [
       "LeveneResult(statistic=0.10363884745479335, pvalue=0.7487044961896305)"
      ]
     },
     "execution_count": 8,
     "metadata": {},
     "output_type": "execute_result"
    }
   ],
   "source": [
    "#levene检验ROI是否齐方差\n",
    "\n",
    "ROI_A=test[test.group=='control'].ROI\n",
    "ROI_B=test[test.group=='experiment'].ROI\n",
    "\n",
    "st.levene(ROI_A,ROI_B)"
   ]
  },
  {
   "cell_type": "markdown",
   "metadata": {
    "id": "3CD23060A92E48118A05A32D20F6A1A5",
    "jupyter": {},
    "mdEditEnable": false,
    "slideshow": {
     "slide_type": "slide"
    },
    "tags": []
   },
   "source": [
    "* p值大于0.05，不拒绝原假设，因此可认为两组实验ROI齐方差。"
   ]
  },
  {
   "cell_type": "markdown",
   "metadata": {
    "id": "4737C2B478F7406986D598B3364A16C9",
    "jupyter": {},
    "mdEditEnable": false,
    "slideshow": {
     "slide_type": "slide"
    },
    "tags": []
   },
   "source": [
    "#### 5.2 ROI均值检验"
   ]
  },
  {
   "cell_type": "code",
   "execution_count": 9,
   "metadata": {
    "id": "6265BBE4F6C7469F9564A0C2E1EE0E33",
    "jupyter": {},
    "scrolled": false,
    "slideshow": {
     "slide_type": "slide"
    },
    "tags": []
   },
   "outputs": [
    {
     "data": {
      "text/plain": [
       "Ttest_relResult(statistic=10.305504459268173, pvalue=4.93261342734923e-11)"
      ]
     },
     "execution_count": 9,
     "metadata": {},
     "output_type": "execute_result"
    }
   ],
   "source": [
    "#配对样本t检验（两独立样本t检验之前需检验是否齐方差，此处不需要）\n",
    "\n",
    "st.ttest_rel(ROI_A,ROI_B)"
   ]
  },
  {
   "cell_type": "markdown",
   "metadata": {
    "id": "8E1AB88D76B14FB28179398F5F1D323F",
    "jupyter": {},
    "mdEditEnable": false,
    "slideshow": {
     "slide_type": "slide"
    },
    "tags": []
   },
   "source": [
    "* p值小于0.05，拒绝原假设，因此可认为实验条件对ROI有显著影响。"
   ]
  },
  {
   "cell_type": "markdown",
   "metadata": {
    "id": "78F8270593AF466B8AB54E880D5AEC63",
    "jupyter": {},
    "mdEditEnable": false,
    "slideshow": {
     "slide_type": "slide"
    },
    "tags": []
   },
   "source": [
    "## 二、城市运营分析"
   ]
  },
  {
   "cell_type": "markdown",
   "metadata": {
    "id": "C43CD4145503447686D8A8D75444CE92",
    "jupyter": {},
    "mdEditEnable": false,
    "slideshow": {
     "slide_type": "slide"
    },
    "tags": []
   },
   "source": [
    "### 1 数据导入"
   ]
  },
  {
   "cell_type": "code",
   "execution_count": 2,
   "metadata": {
    "id": "05B6BBE5C4E5465890B5E320BDAD71E6",
    "jupyter": {},
    "scrolled": false,
    "slideshow": {
     "slide_type": "slide"
    },
    "tags": []
   },
   "outputs": [
    {
     "data": {
      "text/html": [
       "<div>\n",
       "<style scoped>\n",
       "    .dataframe tbody tr th:only-of-type {\n",
       "        vertical-align: middle;\n",
       "    }\n",
       "\n",
       "    .dataframe tbody tr th {\n",
       "        vertical-align: top;\n",
       "    }\n",
       "\n",
       "    .dataframe thead th {\n",
       "        text-align: right;\n",
       "    }\n",
       "</style>\n",
       "<table border=\"1\" class=\"dataframe\">\n",
       "  <thead>\n",
       "    <tr style=\"text-align: right;\">\n",
       "      <th></th>\n",
       "      <th>date</th>\n",
       "      <th>hour</th>\n",
       "      <th>requests</th>\n",
       "      <th>trips</th>\n",
       "      <th>supply hours</th>\n",
       "      <th>average minutes of trips</th>\n",
       "      <th>pETA</th>\n",
       "      <th>aETA</th>\n",
       "      <th>utiliz</th>\n",
       "    </tr>\n",
       "  </thead>\n",
       "  <tbody>\n",
       "    <tr>\n",
       "      <th>0</th>\n",
       "      <td>2013-09-01</td>\n",
       "      <td>11</td>\n",
       "      <td>79</td>\n",
       "      <td>55</td>\n",
       "      <td>42.63</td>\n",
       "      <td>20.43</td>\n",
       "      <td>5.51</td>\n",
       "      <td>7.19</td>\n",
       "      <td>0.479240</td>\n",
       "    </tr>\n",
       "    <tr>\n",
       "      <th>1</th>\n",
       "      <td>2013-09-01</td>\n",
       "      <td>12</td>\n",
       "      <td>73</td>\n",
       "      <td>41</td>\n",
       "      <td>36.43</td>\n",
       "      <td>15.53</td>\n",
       "      <td>5.48</td>\n",
       "      <td>8.48</td>\n",
       "      <td>0.426297</td>\n",
       "    </tr>\n",
       "    <tr>\n",
       "      <th>2</th>\n",
       "      <td>2013-09-01</td>\n",
       "      <td>13</td>\n",
       "      <td>54</td>\n",
       "      <td>50</td>\n",
       "      <td>23.02</td>\n",
       "      <td>17.76</td>\n",
       "      <td>5.07</td>\n",
       "      <td>8.94</td>\n",
       "      <td>0.771503</td>\n",
       "    </tr>\n",
       "    <tr>\n",
       "      <th>3</th>\n",
       "      <td>2013-09-02</td>\n",
       "      <td>11</td>\n",
       "      <td>193</td>\n",
       "      <td>170</td>\n",
       "      <td>64.20</td>\n",
       "      <td>31.47</td>\n",
       "      <td>5.31</td>\n",
       "      <td>6.55</td>\n",
       "      <td>0.490187</td>\n",
       "    </tr>\n",
       "    <tr>\n",
       "      <th>4</th>\n",
       "      <td>2013-09-02</td>\n",
       "      <td>12</td>\n",
       "      <td>258</td>\n",
       "      <td>210</td>\n",
       "      <td>80.28</td>\n",
       "      <td>38.68</td>\n",
       "      <td>4.94</td>\n",
       "      <td>6.08</td>\n",
       "      <td>0.481814</td>\n",
       "    </tr>\n",
       "  </tbody>\n",
       "</table>\n",
       "</div>"
      ],
      "text/plain": [
       "        date  hour  requests  trips  supply hours  average minutes of trips  \\\n",
       "0 2013-09-01    11        79     55         42.63                     20.43   \n",
       "1 2013-09-01    12        73     41         36.43                     15.53   \n",
       "2 2013-09-01    13        54     50         23.02                     17.76   \n",
       "3 2013-09-02    11       193    170         64.20                     31.47   \n",
       "4 2013-09-02    12       258    210         80.28                     38.68   \n",
       "\n",
       "   pETA  aETA    utiliz  \n",
       "0  5.51  7.19  0.479240  \n",
       "1  5.48  8.48  0.426297  \n",
       "2  5.07  8.94  0.771503  \n",
       "3  5.31  6.55  0.490187  \n",
       "4  4.94  6.08  0.481814  "
      ]
     },
     "execution_count": 2,
     "metadata": {},
     "output_type": "execute_result"
    }
   ],
   "source": [
    "#导入该城市运营相关数据\n",
    "\n",
    "city = pd.read_excel('/home/kesci/input/didi4010/city.xlsx')\n",
    "city.head()"
   ]
  },
  {
   "cell_type": "code",
   "execution_count": 25,
   "metadata": {
    "id": "2E9D277068EE4D93AEFC53DBA9578BD8",
    "jupyter": {},
    "scrolled": false,
    "slideshow": {
     "slide_type": "slide"
    },
    "tags": []
   },
   "outputs": [
    {
     "name": "stdout",
     "output_type": "stream",
     "text": [
      "<class 'pandas.core.frame.DataFrame'>\n",
      "RangeIndex: 90 entries, 0 to 89\n",
      "Data columns (total 9 columns):\n",
      "date                        90 non-null datetime64[ns]\n",
      "hour                        90 non-null int64\n",
      "requests                    90 non-null int64\n",
      "trips                       90 non-null int64\n",
      "supply hours                90 non-null float64\n",
      "average minutes of trips    90 non-null float64\n",
      "pETA                        90 non-null float64\n",
      "aETA                        90 non-null float64\n",
      "utiliz                      90 non-null float64\n",
      "dtypes: datetime64[ns](1), float64(5), int64(3)\n",
      "memory usage: 6.4 KB\n"
     ]
    }
   ],
   "source": [
    "#查看数据有无缺失值\n",
    "\n",
    "city.info()"
   ]
  },
  {
   "cell_type": "markdown",
   "metadata": {
    "id": "8ECEFF63F8E548B78C4D4E45F644F9E2",
    "jupyter": {},
    "mdEditEnable": false,
    "slideshow": {
     "slide_type": "slide"
    },
    "tags": []
   },
   "source": [
    "### 2 数据探索"
   ]
  },
  {
   "cell_type": "markdown",
   "metadata": {
    "id": "8BEC5CC9D7B84B5E81BD78BB054E4E34",
    "jupyter": {},
    "mdEditEnable": false,
    "slideshow": {
     "slide_type": "slide"
    },
    "tags": []
   },
   "source": [
    "#### 2.1 单量最多的时间点"
   ]
  },
  {
   "cell_type": "code",
   "execution_count": 4,
   "metadata": {
    "id": "205BC4FAD0FA4A59851FF1B42752005B",
    "jupyter": {},
    "scrolled": false,
    "slideshow": {
     "slide_type": "slide"
    },
    "tags": []
   },
   "outputs": [
    {
     "data": {
      "text/html": [
       "<div>\n",
       "<style scoped>\n",
       "    .dataframe tbody tr th:only-of-type {\n",
       "        vertical-align: middle;\n",
       "    }\n",
       "\n",
       "    .dataframe tbody tr th {\n",
       "        vertical-align: top;\n",
       "    }\n",
       "\n",
       "    .dataframe thead th {\n",
       "        text-align: right;\n",
       "    }\n",
       "</style>\n",
       "<table border=\"1\" class=\"dataframe\">\n",
       "  <thead>\n",
       "    <tr style=\"text-align: right;\">\n",
       "      <th></th>\n",
       "      <th>requests</th>\n",
       "    </tr>\n",
       "    <tr>\n",
       "      <th>hour</th>\n",
       "      <th></th>\n",
       "    </tr>\n",
       "  </thead>\n",
       "  <tbody>\n",
       "    <tr>\n",
       "      <th>11</th>\n",
       "      <td>6008</td>\n",
       "    </tr>\n",
       "    <tr>\n",
       "      <th>12</th>\n",
       "      <td>8530</td>\n",
       "    </tr>\n",
       "    <tr>\n",
       "      <th>13</th>\n",
       "      <td>6559</td>\n",
       "    </tr>\n",
       "  </tbody>\n",
       "</table>\n",
       "</div>"
      ],
      "text/plain": [
       "      requests\n",
       "hour          \n",
       "11        6008\n",
       "12        8530\n",
       "13        6559"
      ]
     },
     "execution_count": 4,
     "metadata": {},
     "output_type": "execute_result"
    }
   ],
   "source": [
    "req_hour = city.groupby(['hour'],as_index=True).agg({'requests':sum},inplace=True)\n",
    "req_hour"
   ]
  },
  {
   "cell_type": "code",
   "execution_count": 6,
   "metadata": {
    "id": "CB24F94AA5FB4D01B10A68E44AB9A317",
    "jupyter": {},
    "mdEditEnable": false,
    "scrolled": false,
    "slideshow": {
     "slide_type": "slide"
    },
    "tags": []
   },
   "outputs": [
    {
     "data": {
      "text/html": [
       "<img src=\"https://cdn.kesci.com/rt_upload/CB24F94AA5FB4D01B10A68E44AB9A317/qems50pbjz.png\">"
      ],
      "text/plain": [
       "<Figure size 432x288 with 1 Axes>"
      ]
     },
     "metadata": {
      "needs_background": "light"
     },
     "output_type": "display_data"
    }
   ],
   "source": [
    "#绘制各时点订单请求柱状图\n",
    "\n",
    "import matplotlib.pyplot as plt\n",
    "\n",
    "req_hour.plot(kind='bar')\n",
    "plt.xticks(rotation=0)\n",
    "\n",
    "plt.show()"
   ]
  },
  {
   "cell_type": "markdown",
   "metadata": {
    "id": "EBEBEB6BAA874B9C8F853A829AB6C815",
    "jupyter": {},
    "mdEditEnable": false,
    "slideshow": {
     "slide_type": "slide"
    },
    "tags": []
   },
   "source": [
    "* 可见，在11、12、13这三个时间点内，12点用户发起订单的需求是最大的，其次是13点，11点。\n",
    "\n",
    "* **司机运营平台应考虑加大该时点车辆供应**。"
   ]
  },
  {
   "cell_type": "markdown",
   "metadata": {
    "id": "5A8949A30B3546C480F8FC0A5279D92B",
    "jupyter": {},
    "mdEditEnable": false,
    "slideshow": {
     "slide_type": "slide"
    },
    "tags": []
   },
   "source": [
    "#### 2.2 单量最多的日期"
   ]
  },
  {
   "cell_type": "code",
   "execution_count": 53,
   "metadata": {
    "id": "013A4AF12A0447009E21AABA05B5E829",
    "jupyter": {},
    "scrolled": false,
    "slideshow": {
     "slide_type": "slide"
    },
    "tags": []
   },
   "outputs": [
    {
     "data": {
      "text/html": [
       "<div>\n",
       "<style scoped>\n",
       "    .dataframe tbody tr th:only-of-type {\n",
       "        vertical-align: middle;\n",
       "    }\n",
       "\n",
       "    .dataframe tbody tr th {\n",
       "        vertical-align: top;\n",
       "    }\n",
       "\n",
       "    .dataframe thead th {\n",
       "        text-align: right;\n",
       "    }\n",
       "</style>\n",
       "<table border=\"1\" class=\"dataframe\">\n",
       "  <thead>\n",
       "    <tr style=\"text-align: right;\">\n",
       "      <th></th>\n",
       "      <th>requests</th>\n",
       "    </tr>\n",
       "    <tr>\n",
       "      <th>date</th>\n",
       "      <th></th>\n",
       "    </tr>\n",
       "  </thead>\n",
       "  <tbody>\n",
       "    <tr>\n",
       "      <th>2013-09-01</th>\n",
       "      <td>206</td>\n",
       "    </tr>\n",
       "    <tr>\n",
       "      <th>2013-09-02</th>\n",
       "      <td>604</td>\n",
       "    </tr>\n",
       "    <tr>\n",
       "      <th>2013-09-03</th>\n",
       "      <td>238</td>\n",
       "    </tr>\n",
       "    <tr>\n",
       "      <th>2013-09-04</th>\n",
       "      <td>199</td>\n",
       "    </tr>\n",
       "    <tr>\n",
       "      <th>2013-09-05</th>\n",
       "      <td>782</td>\n",
       "    </tr>\n",
       "  </tbody>\n",
       "</table>\n",
       "</div>"
      ],
      "text/plain": [
       "            requests\n",
       "date                \n",
       "2013-09-01       206\n",
       "2013-09-02       604\n",
       "2013-09-03       238\n",
       "2013-09-04       199\n",
       "2013-09-05       782"
      ]
     },
     "execution_count": 53,
     "metadata": {},
     "output_type": "execute_result"
    }
   ],
   "source": [
    "req_date = city.groupby(['date'],as_index=True).agg({'requests':sum},inplace=True)\n",
    "req_date.sort_values('date').head()"
   ]
  },
  {
   "cell_type": "code",
   "execution_count": 57,
   "metadata": {
    "id": "1B250380AB7E4E4C9BAB645B3D5A9E3F",
    "jupyter": {},
    "scrolled": false,
    "slideshow": {
     "slide_type": "slide"
    },
    "tags": []
   },
   "outputs": [
    {
     "data": {
      "text/html": [
       "<img src=\"https://cdn.kesci.com/rt_upload/1B250380AB7E4E4C9BAB645B3D5A9E3F/qd6xfl3eez.png\">"
      ],
      "text/plain": [
       "<Figure size 432x288 with 1 Axes>"
      ]
     },
     "metadata": {
      "needs_background": "light"
     },
     "output_type": "display_data"
    }
   ],
   "source": [
    "#绘制订单请求数随日期变化的折线图\n",
    "\n",
    "req_date.plot(kind='line')\n",
    "\n",
    "plt.show()"
   ]
  },
  {
   "cell_type": "markdown",
   "metadata": {
    "id": "2E58785ECB734CA688B37DC364277E8D",
    "jupyter": {},
    "mdEditEnable": false,
    "slideshow": {
     "slide_type": "slide"
    },
    "tags": []
   },
   "source": [
    "* 单月订单请求数随日期的变化呈周期性变化，我们猜测4个峰值分别对应4个周末，周末用户出行需求较大。\n",
    "\n",
    "* 经验证发现猜想与数据吻合，因此**司机运营平台应考虑加大周末、节假日的车辆供给**。"
   ]
  },
  {
   "cell_type": "markdown",
   "metadata": {
    "id": "78F703E2262D40EA8DEA242F98089857",
    "jupyter": {},
    "mdEditEnable": false,
    "slideshow": {
     "slide_type": "slide"
    },
    "tags": []
   },
   "source": [
    "#### 2.3 各时段订单完成率"
   ]
  },
  {
   "cell_type": "code",
   "execution_count": 5,
   "metadata": {
    "id": "AB74BED9EB184D3ABF5E5A425F933D2E",
    "jupyter": {},
    "scrolled": false,
    "slideshow": {
     "slide_type": "slide"
    },
    "tags": []
   },
   "outputs": [
    {
     "data": {
      "text/html": [
       "<div>\n",
       "<style scoped>\n",
       "    .dataframe tbody tr th:only-of-type {\n",
       "        vertical-align: middle;\n",
       "    }\n",
       "\n",
       "    .dataframe tbody tr th {\n",
       "        vertical-align: top;\n",
       "    }\n",
       "\n",
       "    .dataframe thead th {\n",
       "        text-align: right;\n",
       "    }\n",
       "</style>\n",
       "<table border=\"1\" class=\"dataframe\">\n",
       "  <thead>\n",
       "    <tr style=\"text-align: right;\">\n",
       "      <th></th>\n",
       "      <th>hour</th>\n",
       "      <th>requests</th>\n",
       "      <th>trips</th>\n",
       "      <th>rate</th>\n",
       "    </tr>\n",
       "  </thead>\n",
       "  <tbody>\n",
       "    <tr>\n",
       "      <th>0</th>\n",
       "      <td>11</td>\n",
       "      <td>6008</td>\n",
       "      <td>4550</td>\n",
       "      <td>0.757324</td>\n",
       "    </tr>\n",
       "    <tr>\n",
       "      <th>1</th>\n",
       "      <td>12</td>\n",
       "      <td>8530</td>\n",
       "      <td>5850</td>\n",
       "      <td>0.685815</td>\n",
       "    </tr>\n",
       "    <tr>\n",
       "      <th>2</th>\n",
       "      <td>13</td>\n",
       "      <td>6559</td>\n",
       "      <td>3085</td>\n",
       "      <td>0.470346</td>\n",
       "    </tr>\n",
       "  </tbody>\n",
       "</table>\n",
       "</div>"
      ],
      "text/plain": [
       "   hour  requests  trips      rate\n",
       "0    11      6008   4550  0.757324\n",
       "1    12      8530   5850  0.685815\n",
       "2    13      6559   3085  0.470346"
      ]
     },
     "execution_count": 5,
     "metadata": {},
     "output_type": "execute_result"
    }
   ],
   "source": [
    "com_hour = city.groupby(['hour'],as_index=False).agg({'requests':sum,'trips':sum},inplace=True)\n",
    "com_hour['rate']=com_hour['trips']/com_hour['requests']\n",
    "com_hour"
   ]
  },
  {
   "cell_type": "markdown",
   "metadata": {
    "id": "80C27624414043A7876001D4303DF328",
    "jupyter": {},
    "mdEditEnable": false,
    "slideshow": {
     "slide_type": "slide"
    },
    "tags": []
   },
   "source": [
    "* 13点订单需求较多，但订单完成率仅47%，说明较多订单没有得到及时相应。\n",
    "\n",
    "* ** 客运部应重点关注13点订单相应时长**，排查具体原因。"
   ]
  },
  {
   "cell_type": "markdown",
   "metadata": {
    "id": "8359925A05F84F128BA49E1ADDFF3597",
    "jupyter": {},
    "mdEditEnable": false,
    "slideshow": {
     "slide_type": "slide"
    },
    "tags": []
   },
   "source": [
    "#### 2.4 单月每日订单完成率"
   ]
  },
  {
   "cell_type": "code",
   "execution_count": 67,
   "metadata": {
    "id": "F8D0D16590C0405FA224BEE5B542CA03",
    "jupyter": {},
    "scrolled": false,
    "slideshow": {
     "slide_type": "slide"
    },
    "tags": []
   },
   "outputs": [
    {
     "data": {
      "text/html": [
       "<div>\n",
       "<style scoped>\n",
       "    .dataframe tbody tr th:only-of-type {\n",
       "        vertical-align: middle;\n",
       "    }\n",
       "\n",
       "    .dataframe tbody tr th {\n",
       "        vertical-align: top;\n",
       "    }\n",
       "\n",
       "    .dataframe thead th {\n",
       "        text-align: right;\n",
       "    }\n",
       "</style>\n",
       "<table border=\"1\" class=\"dataframe\">\n",
       "  <thead>\n",
       "    <tr style=\"text-align: right;\">\n",
       "      <th></th>\n",
       "      <th>requests</th>\n",
       "      <th>trips</th>\n",
       "      <th>rate</th>\n",
       "    </tr>\n",
       "    <tr>\n",
       "      <th>date</th>\n",
       "      <th></th>\n",
       "      <th></th>\n",
       "      <th></th>\n",
       "    </tr>\n",
       "  </thead>\n",
       "  <tbody>\n",
       "    <tr>\n",
       "      <th>2013-09-01</th>\n",
       "      <td>206</td>\n",
       "      <td>146</td>\n",
       "      <td>0.708738</td>\n",
       "    </tr>\n",
       "    <tr>\n",
       "      <th>2013-09-02</th>\n",
       "      <td>604</td>\n",
       "      <td>487</td>\n",
       "      <td>0.806291</td>\n",
       "    </tr>\n",
       "    <tr>\n",
       "      <th>2013-09-03</th>\n",
       "      <td>238</td>\n",
       "      <td>83</td>\n",
       "      <td>0.348739</td>\n",
       "    </tr>\n",
       "    <tr>\n",
       "      <th>2013-09-04</th>\n",
       "      <td>199</td>\n",
       "      <td>102</td>\n",
       "      <td>0.512563</td>\n",
       "    </tr>\n",
       "    <tr>\n",
       "      <th>2013-09-05</th>\n",
       "      <td>782</td>\n",
       "      <td>532</td>\n",
       "      <td>0.680307</td>\n",
       "    </tr>\n",
       "  </tbody>\n",
       "</table>\n",
       "</div>"
      ],
      "text/plain": [
       "            requests  trips      rate\n",
       "date                                 \n",
       "2013-09-01       206    146  0.708738\n",
       "2013-09-02       604    487  0.806291\n",
       "2013-09-03       238     83  0.348739\n",
       "2013-09-04       199    102  0.512563\n",
       "2013-09-05       782    532  0.680307"
      ]
     },
     "execution_count": 67,
     "metadata": {},
     "output_type": "execute_result"
    }
   ],
   "source": [
    "com_date = city.groupby(['date'],as_index=True).agg({'requests':sum,'trips':sum},inplace=True)\n",
    "com_date['rate']=com_date['trips']/com_date['requests']\n",
    "com_date.sort_values('date').head()"
   ]
  },
  {
   "cell_type": "code",
   "execution_count": 70,
   "metadata": {
    "id": "6E09F8BA51C440A983D7D6EF23FA07B1",
    "jupyter": {},
    "scrolled": false,
    "slideshow": {
     "slide_type": "slide"
    },
    "tags": []
   },
   "outputs": [
    {
     "data": {
      "text/html": [
       "<img src=\"https://cdn.kesci.com/rt_upload/6E09F8BA51C440A983D7D6EF23FA07B1/qd6yc5unr7.png\">"
      ],
      "text/plain": [
       "<Figure size 432x288 with 1 Axes>"
      ]
     },
     "metadata": {
      "needs_background": "light"
     },
     "output_type": "display_data"
    }
   ],
   "source": [
    "#绘制订单完成率随日期变化的折线图\n",
    "\n",
    "com_date.rate.plot(kind='line')\n",
    "\n",
    "plt.show()"
   ]
  },
  {
   "cell_type": "markdown",
   "metadata": {
    "id": "18D9AB55BBD8428A929FF4789546FD68",
    "jupyter": {},
    "mdEditEnable": false,
    "slideshow": {
     "slide_type": "slide"
    },
    "tags": []
   },
   "source": [
    "* 单月每日订单完成率规律不太明显，但几个谷值基本都出现在周末附近，说明客户出行需求的提升可能导致响应率的降低。"
   ]
  },
  {
   "cell_type": "markdown",
   "metadata": {
    "id": "9775B223B7D840FE8C817DDF94589BA9",
    "jupyter": {},
    "mdEditEnable": false,
    "slideshow": {
     "slide_type": "slide"
    },
    "tags": []
   },
   "source": [
    "#### 2.5 顾客等待时间"
   ]
  },
  {
   "cell_type": "code",
   "execution_count": 77,
   "metadata": {
    "id": "BFC90B1EB9CC4AC4ABBD582E016797C1",
    "jupyter": {},
    "scrolled": false,
    "slideshow": {
     "slide_type": "slide"
    },
    "tags": []
   },
   "outputs": [
    {
     "data": {
      "text/html": [
       "<div>\n",
       "<style scoped>\n",
       "    .dataframe tbody tr th:only-of-type {\n",
       "        vertical-align: middle;\n",
       "    }\n",
       "\n",
       "    .dataframe tbody tr th {\n",
       "        vertical-align: top;\n",
       "    }\n",
       "\n",
       "    .dataframe thead th {\n",
       "        text-align: right;\n",
       "    }\n",
       "</style>\n",
       "<table border=\"1\" class=\"dataframe\">\n",
       "  <thead>\n",
       "    <tr style=\"text-align: right;\">\n",
       "      <th></th>\n",
       "      <th>pETA</th>\n",
       "      <th>aETA</th>\n",
       "    </tr>\n",
       "    <tr>\n",
       "      <th>hour</th>\n",
       "      <th></th>\n",
       "      <th></th>\n",
       "    </tr>\n",
       "  </thead>\n",
       "  <tbody>\n",
       "    <tr>\n",
       "      <th>11</th>\n",
       "      <td>5.397333</td>\n",
       "      <td>6.611000</td>\n",
       "    </tr>\n",
       "    <tr>\n",
       "      <th>12</th>\n",
       "      <td>5.860000</td>\n",
       "      <td>7.253333</td>\n",
       "    </tr>\n",
       "    <tr>\n",
       "      <th>13</th>\n",
       "      <td>6.018333</td>\n",
       "      <td>7.732667</td>\n",
       "    </tr>\n",
       "  </tbody>\n",
       "</table>\n",
       "</div>"
      ],
      "text/plain": [
       "          pETA      aETA\n",
       "hour                    \n",
       "11    5.397333  6.611000\n",
       "12    5.860000  7.253333\n",
       "13    6.018333  7.732667"
      ]
     },
     "execution_count": 77,
     "metadata": {},
     "output_type": "execute_result"
    }
   ],
   "source": [
    "import numpy as np\n",
    "\n",
    "eta_hour = city.groupby(['hour'],as_index=True).agg({'pETA':np.mean,'aETA':np.mean},inplace=True)\n",
    "eta_hour"
   ]
  },
  {
   "cell_type": "code",
   "execution_count": 78,
   "metadata": {
    "id": "7EE38ECFB83D4E698F38F2E86BDF70C8",
    "jupyter": {},
    "scrolled": false,
    "slideshow": {
     "slide_type": "slide"
    },
    "tags": []
   },
   "outputs": [
    {
     "data": {
      "text/plain": [
       "<matplotlib.axes._subplots.AxesSubplot at 0x7f3aaebb2c18>"
      ]
     },
     "execution_count": 78,
     "metadata": {},
     "output_type": "execute_result"
    },
    {
     "data": {
      "text/html": [
       "<img src=\"https://cdn.kesci.com/rt_upload/7EE38ECFB83D4E698F38F2E86BDF70C8/qd6yniuwpe.png\">"
      ],
      "text/plain": [
       "<Figure size 432x288 with 1 Axes>"
      ]
     },
     "metadata": {
      "needs_background": "light"
     },
     "output_type": "display_data"
    }
   ],
   "source": [
    "#绘制顾客等待时长复合柱状图\n",
    "\n",
    "eta_hour.plot(kind='bar')"
   ]
  },
  {
   "cell_type": "markdown",
   "metadata": {
    "id": "A8422D41374F4B0D8D92A149F76A9130",
    "jupyter": {},
    "mdEditEnable": false,
    "slideshow": {
     "slide_type": "slide"
    },
    "tags": []
   },
   "source": [
    "* 以上可见，无论哪个时点，用户实际等待时长均明显大于用户预计等待时长。\n",
    "\n",
    "* 各时点用户等待时长差异不明显，但13点最高。\n",
    "\n",
    "* **客运部一方面应提升用户预计等待时长的准确性，另一方面优化平台派单逻辑等。**"
   ]
  },
  {
   "cell_type": "markdown",
   "metadata": {
    "id": "8421231799A84FAF99CDB39CA2098815",
    "jupyter": {},
    "mdEditEnable": false,
    "slideshow": {
     "slide_type": "slide"
    },
    "tags": []
   },
   "source": [
    "#### 2.6 司机在忙率"
   ]
  },
  {
   "cell_type": "code",
   "execution_count": 7,
   "metadata": {
    "id": "204CFC0492ED4AEC8F643C93AA6E7CCA",
    "jupyter": {},
    "scrolled": false,
    "slideshow": {
     "slide_type": "slide"
    },
    "tags": []
   },
   "outputs": [
    {
     "data": {
      "text/html": [
       "<div>\n",
       "<style scoped>\n",
       "    .dataframe tbody tr th:only-of-type {\n",
       "        vertical-align: middle;\n",
       "    }\n",
       "\n",
       "    .dataframe tbody tr th {\n",
       "        vertical-align: top;\n",
       "    }\n",
       "\n",
       "    .dataframe thead th {\n",
       "        text-align: right;\n",
       "    }\n",
       "</style>\n",
       "<table border=\"1\" class=\"dataframe\">\n",
       "  <thead>\n",
       "    <tr style=\"text-align: right;\">\n",
       "      <th></th>\n",
       "      <th>date</th>\n",
       "      <th>hour</th>\n",
       "      <th>requests</th>\n",
       "      <th>trips</th>\n",
       "      <th>supply hours</th>\n",
       "      <th>average minutes of trips</th>\n",
       "      <th>pETA</th>\n",
       "      <th>aETA</th>\n",
       "      <th>utiliz</th>\n",
       "      <th>busy</th>\n",
       "    </tr>\n",
       "  </thead>\n",
       "  <tbody>\n",
       "    <tr>\n",
       "      <th>0</th>\n",
       "      <td>2013-09-01</td>\n",
       "      <td>11</td>\n",
       "      <td>79</td>\n",
       "      <td>55</td>\n",
       "      <td>42.63</td>\n",
       "      <td>20.43</td>\n",
       "      <td>5.51</td>\n",
       "      <td>7.19</td>\n",
       "      <td>0.479240</td>\n",
       "      <td>20.43</td>\n",
       "    </tr>\n",
       "    <tr>\n",
       "      <th>1</th>\n",
       "      <td>2013-09-01</td>\n",
       "      <td>12</td>\n",
       "      <td>73</td>\n",
       "      <td>41</td>\n",
       "      <td>36.43</td>\n",
       "      <td>15.53</td>\n",
       "      <td>5.48</td>\n",
       "      <td>8.48</td>\n",
       "      <td>0.426297</td>\n",
       "      <td>15.53</td>\n",
       "    </tr>\n",
       "    <tr>\n",
       "      <th>2</th>\n",
       "      <td>2013-09-01</td>\n",
       "      <td>13</td>\n",
       "      <td>54</td>\n",
       "      <td>50</td>\n",
       "      <td>23.02</td>\n",
       "      <td>17.76</td>\n",
       "      <td>5.07</td>\n",
       "      <td>8.94</td>\n",
       "      <td>0.771503</td>\n",
       "      <td>17.76</td>\n",
       "    </tr>\n",
       "    <tr>\n",
       "      <th>3</th>\n",
       "      <td>2013-09-02</td>\n",
       "      <td>11</td>\n",
       "      <td>193</td>\n",
       "      <td>170</td>\n",
       "      <td>64.20</td>\n",
       "      <td>31.47</td>\n",
       "      <td>5.31</td>\n",
       "      <td>6.55</td>\n",
       "      <td>0.490187</td>\n",
       "      <td>31.47</td>\n",
       "    </tr>\n",
       "    <tr>\n",
       "      <th>4</th>\n",
       "      <td>2013-09-02</td>\n",
       "      <td>12</td>\n",
       "      <td>258</td>\n",
       "      <td>210</td>\n",
       "      <td>80.28</td>\n",
       "      <td>38.68</td>\n",
       "      <td>4.94</td>\n",
       "      <td>6.08</td>\n",
       "      <td>0.481814</td>\n",
       "      <td>38.68</td>\n",
       "    </tr>\n",
       "  </tbody>\n",
       "</table>\n",
       "</div>"
      ],
      "text/plain": [
       "        date  hour  requests  trips  supply hours  average minutes of trips  \\\n",
       "0 2013-09-01    11        79     55         42.63                     20.43   \n",
       "1 2013-09-01    12        73     41         36.43                     15.53   \n",
       "2 2013-09-01    13        54     50         23.02                     17.76   \n",
       "3 2013-09-02    11       193    170         64.20                     31.47   \n",
       "4 2013-09-02    12       258    210         80.28                     38.68   \n",
       "\n",
       "   pETA  aETA    utiliz   busy  \n",
       "0  5.51  7.19  0.479240  20.43  \n",
       "1  5.48  8.48  0.426297  15.53  \n",
       "2  5.07  8.94  0.771503  17.76  \n",
       "3  5.31  6.55  0.490187  31.47  \n",
       "4  4.94  6.08  0.481814  38.68  "
      ]
     },
     "execution_count": 7,
     "metadata": {},
     "output_type": "execute_result"
    }
   ],
   "source": [
    "city['busy'] = city['supply hours']*city['utiliz']\n",
    "city.head()"
   ]
  },
  {
   "cell_type": "code",
   "execution_count": 8,
   "metadata": {
    "id": "4A37347B5F1742B4A60F5435B5DE0D31",
    "jupyter": {},
    "scrolled": false,
    "slideshow": {
     "slide_type": "slide"
    },
    "tags": []
   },
   "outputs": [
    {
     "data": {
      "text/html": [
       "<div>\n",
       "<style scoped>\n",
       "    .dataframe tbody tr th:only-of-type {\n",
       "        vertical-align: middle;\n",
       "    }\n",
       "\n",
       "    .dataframe tbody tr th {\n",
       "        vertical-align: top;\n",
       "    }\n",
       "\n",
       "    .dataframe thead th {\n",
       "        text-align: right;\n",
       "    }\n",
       "</style>\n",
       "<table border=\"1\" class=\"dataframe\">\n",
       "  <thead>\n",
       "    <tr style=\"text-align: right;\">\n",
       "      <th></th>\n",
       "      <th>hour</th>\n",
       "      <th>supply hours</th>\n",
       "      <th>busy</th>\n",
       "      <th>utiliz</th>\n",
       "    </tr>\n",
       "  </thead>\n",
       "  <tbody>\n",
       "    <tr>\n",
       "      <th>0</th>\n",
       "      <td>11</td>\n",
       "      <td>1660.01</td>\n",
       "      <td>768.51</td>\n",
       "      <td>0.462955</td>\n",
       "    </tr>\n",
       "    <tr>\n",
       "      <th>1</th>\n",
       "      <td>12</td>\n",
       "      <td>1818.03</td>\n",
       "      <td>1115.28</td>\n",
       "      <td>0.613455</td>\n",
       "    </tr>\n",
       "    <tr>\n",
       "      <th>2</th>\n",
       "      <td>13</td>\n",
       "      <td>1274.60</td>\n",
       "      <td>730.83</td>\n",
       "      <td>0.573380</td>\n",
       "    </tr>\n",
       "  </tbody>\n",
       "</table>\n",
       "</div>"
      ],
      "text/plain": [
       "   hour  supply hours     busy    utiliz\n",
       "0    11       1660.01   768.51  0.462955\n",
       "1    12       1818.03  1115.28  0.613455\n",
       "2    13       1274.60   730.83  0.573380"
      ]
     },
     "execution_count": 8,
     "metadata": {},
     "output_type": "execute_result"
    }
   ],
   "source": [
    "busy_hour = city.groupby(['hour'],as_index=False).agg({'supply hours':sum,'busy':sum})\n",
    "busy_hour['utiliz'] = busy_hour['busy']/busy_hour['supply hours']\n",
    "busy_hour"
   ]
  },
  {
   "cell_type": "markdown",
   "metadata": {
    "id": "76DD88DFCC6F43D4884E4C0FCA4CAAD7",
    "jupyter": {},
    "mdEditEnable": false,
    "slideshow": {
     "slide_type": "slide"
    },
    "tags": []
   },
   "source": [
    "* 12点司机在忙总时长最长，在忙率也最高，用户订单请求也最多，说明车辆总数偏少。"
   ]
  },
  {
   "cell_type": "markdown",
   "metadata": {
    "id": "33FA3BEC7A124CE3853D4D803C8C2BC0",
    "jupyter": {},
    "mdEditEnable": false,
    "slideshow": {
     "slide_type": "slide"
    },
    "tags": []
   },
   "source": [
    "#### 2.7 订单时长"
   ]
  },
  {
   "cell_type": "code",
   "execution_count": 10,
   "metadata": {
    "id": "6BF78D1387FF41378E30676130532529",
    "jupyter": {},
    "scrolled": false,
    "slideshow": {
     "slide_type": "slide"
    },
    "tags": []
   },
   "outputs": [
    {
     "data": {
      "text/html": [
       "<div>\n",
       "<style scoped>\n",
       "    .dataframe tbody tr th:only-of-type {\n",
       "        vertical-align: middle;\n",
       "    }\n",
       "\n",
       "    .dataframe tbody tr th {\n",
       "        vertical-align: top;\n",
       "    }\n",
       "\n",
       "    .dataframe thead th {\n",
       "        text-align: right;\n",
       "    }\n",
       "</style>\n",
       "<table border=\"1\" class=\"dataframe\">\n",
       "  <thead>\n",
       "    <tr style=\"text-align: right;\">\n",
       "      <th></th>\n",
       "      <th>hour</th>\n",
       "      <th>average minutes of trips</th>\n",
       "    </tr>\n",
       "  </thead>\n",
       "  <tbody>\n",
       "    <tr>\n",
       "      <th>0</th>\n",
       "      <td>11</td>\n",
       "      <td>25.617</td>\n",
       "    </tr>\n",
       "    <tr>\n",
       "      <th>1</th>\n",
       "      <td>12</td>\n",
       "      <td>37.176</td>\n",
       "    </tr>\n",
       "    <tr>\n",
       "      <th>2</th>\n",
       "      <td>13</td>\n",
       "      <td>24.361</td>\n",
       "    </tr>\n",
       "  </tbody>\n",
       "</table>\n",
       "</div>"
      ],
      "text/plain": [
       "   hour  average minutes of trips\n",
       "0    11                    25.617\n",
       "1    12                    37.176\n",
       "2    13                    24.361"
      ]
     },
     "execution_count": 10,
     "metadata": {},
     "output_type": "execute_result"
    }
   ],
   "source": [
    "trip_min = city.groupby(['hour'],as_index=False).agg({'average minutes of trips':np.mean})\n",
    "trip_min"
   ]
  },
  {
   "cell_type": "markdown",
   "metadata": {
    "id": "43D2495FC0B84F7D8B978846E83C4D08",
    "jupyter": {},
    "mdEditEnable": false,
    "slideshow": {
     "slide_type": "slide"
    },
    "tags": []
   },
   "source": [
    "* 12点用户订单需求较多，同时订单时长最长，说明这个时间点是一个非常重要的时间点。"
   ]
  },
  {
   "cell_type": "code",
   "execution_count": 9,
   "metadata": {
    "id": "A97FD1BB48834D468024117B254E6EDD",
    "jupyter": {},
    "scrolled": false,
    "slideshow": {
     "slide_type": "slide"
    },
    "tags": []
   },
   "outputs": [
    {
     "data": {
      "text/html": [
       "<div>\n",
       "<style scoped>\n",
       "    .dataframe tbody tr th:only-of-type {\n",
       "        vertical-align: middle;\n",
       "    }\n",
       "\n",
       "    .dataframe tbody tr th {\n",
       "        vertical-align: top;\n",
       "    }\n",
       "\n",
       "    .dataframe thead th {\n",
       "        text-align: right;\n",
       "    }\n",
       "</style>\n",
       "<table border=\"1\" class=\"dataframe\">\n",
       "  <thead>\n",
       "    <tr style=\"text-align: right;\">\n",
       "      <th></th>\n",
       "      <th>hour</th>\n",
       "      <th>supply hours</th>\n",
       "    </tr>\n",
       "  </thead>\n",
       "  <tbody>\n",
       "    <tr>\n",
       "      <th>0</th>\n",
       "      <td>11</td>\n",
       "      <td>55.333667</td>\n",
       "    </tr>\n",
       "    <tr>\n",
       "      <th>1</th>\n",
       "      <td>12</td>\n",
       "      <td>60.601000</td>\n",
       "    </tr>\n",
       "    <tr>\n",
       "      <th>2</th>\n",
       "      <td>13</td>\n",
       "      <td>42.486667</td>\n",
       "    </tr>\n",
       "  </tbody>\n",
       "</table>\n",
       "</div>"
      ],
      "text/plain": [
       "   hour  supply hours\n",
       "0    11     55.333667\n",
       "1    12     60.601000\n",
       "2    13     42.486667"
      ]
     },
     "execution_count": 9,
     "metadata": {},
     "output_type": "execute_result"
    }
   ],
   "source": [
    "supply_hour = city.groupby(['hour'],as_index=False).agg({'supply hours':np.mean})\n",
    "supply_hour"
   ]
  },
  {
   "cell_type": "markdown",
   "metadata": {
    "id": "A8E018C5972A402EB8E80232825093DE",
    "jupyter": {},
    "mdEditEnable": false,
    "slideshow": {
     "slide_type": "slide"
    },
    "tags": []
   },
   "source": [
    "* 13点订单量也较大，此时点司机服务时长较短。\n",
    "\n",
    "* **为优化用户出行体验，司机运营平台可联合客运部可考虑此时段尽量分配总服务时长较长的司机来接单（经验较为丰富）。**"
   ]
  },
  {
   "cell_type": "markdown",
   "metadata": {
    "id": "D3CC07ED728B463785310DBEE0F8CC4B",
    "jupyter": {},
    "mdEditEnable": false,
    "slideshow": {
     "slide_type": "slide"
    },
    "tags": []
   },
   "source": [
    "### 3 后续思考方向"
   ]
  },
  {
   "cell_type": "markdown",
   "metadata": {
    "id": "F11FCBB19F6B4EF988DB98C2E07B5B1E",
    "jupyter": {},
    "mdEditEnable": false,
    "slideshow": {
     "slide_type": "slide"
    },
    "tags": []
   },
   "source": [
    "* 提升顾客预计等待时长预测准确度（需要历史数据进行预测）\n",
    "\n",
    "* 加大车辆投入（分车辆不同等级来看，因此可能需要车辆相关信息表）\n",
    "\n",
    "* 优化用户体验（需要客诉相关数据）\n",
    "\n",
    "* 优化平台派单逻辑（需要订单的位置相关数据）\n",
    "\n",
    "* 个性化需求（需要用户属性、及其他行为数据）"
   ]
  }
 ],
 "metadata": {
  "kernelspec": {
   "display_name": "Python 3",
   "language": "python",
   "name": "python3"
  },
  "language_info": {
   "codemirror_mode": {
    "name": "ipython",
    "version": 3
   },
   "file_extension": ".py",
   "mimetype": "text/x-python",
   "name": "python",
   "nbconvert_exporter": "python",
   "pygments_lexer": "ipython3",
   "version": "3.7.6"
  }
 },
 "nbformat": 4,
 "nbformat_minor": 1
}
